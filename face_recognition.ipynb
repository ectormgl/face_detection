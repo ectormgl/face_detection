{
 "cells": [
  {
   "cell_type": "code",
   "execution_count": 1,
   "id": "7b3fb1b1",
   "metadata": {},
   "outputs": [],
   "source": [
    "import os\n",
    "from PIL import Image\n",
    "import cv2\n",
    "import numpy as np\n",
    "import zipfile\n",
    "import matplotlib.pyplot as plt\n"
   ]
  },
  {
   "cell_type": "code",
   "execution_count": 2,
   "id": "815b3a9b",
   "metadata": {},
   "outputs": [],
   "source": [
    "def zipFiles():\n",
    "    path = './yaleface.zip'\n",
    "    zip_object = zipfile.ZipFile(file=path, mode = 'r')\n",
    "    zip_object.extractall('./')\n",
    "    zip_object.close()"
   ]
  },
  {
   "cell_type": "code",
   "execution_count": 3,
   "id": "5e80e882",
   "metadata": {},
   "outputs": [
    {
     "name": "stdout",
     "output_type": "stream",
     "text": [
      "A pasta 'new_images' já existe em C:\\Users\\Erika Magalhães\\Desktop\\face_recognition\\new_images.\n"
     ]
    }
   ],
   "source": [
    "nome_da_pasta= 'new_images'\n",
    "caminho=f\"C:\\\\Users\\\\Erika Magalhães\\\\Desktop\\\\face_recognition\\\\{nome_da_pasta}\"   #altere\n",
    "\n",
    "def createDirec(nome, path):\n",
    "    if not os.path.exists(caminho):\n",
    "        os.makedirs(caminho)\n",
    "        print(f\"A pasta '{nome_da_pasta}' foi criada com sucesso em {caminho}.\")\n",
    "    else:\n",
    "        print(f\"A pasta '{nome_da_pasta}' já existe em {caminho}.\")\n",
    "createDirec(nome_da_pasta, caminho)"
   ]
  },
  {
   "cell_type": "code",
   "execution_count": 4,
   "id": "4bb80151",
   "metadata": {},
   "outputs": [],
   "source": [
    "\n",
    "paths= os.listdir(f\"C:\\\\Users\\\\Erika Magalhães\\\\Desktop\\\\face_recognition\\\\data\")\n",
    "new_path= f\"C:\\\\Users\\\\Erika Magalhães\\\\Desktop\\\\face_recognition\\\\{nome_da_pasta}\"\n",
    "def renamingVariables():\n",
    "    old_paths=[]\n",
    "    new_ids= []\n",
    "    for path in paths:\n",
    "        old_paths.append(f'C:\\\\Users\\\\Erika Magalhães\\\\Desktop\\\\face_recognition\\\\data\\\\{path}')\n",
    "    for path in paths:\n",
    "        var= path.split('.')\n",
    "        var= f'{var[0]}.{var[1]}.gif'\n",
    "        new_ids.append(var)\n",
    "\n"
   ]
  },
  {
   "cell_type": "code",
   "execution_count": 5,
   "id": "c22d27dc",
   "metadata": {},
   "outputs": [],
   "source": [
    "def changeExten(old_names, new_names, new_path):\n",
    "    num=0\n",
    "    for i in old_names:\n",
    "        #print(new_names[num])\n",
    "        image= Image.open(i)\n",
    "        image.save(new_names[num])\n",
    "        num+=1"
   ]
  },
  {
   "cell_type": "code",
   "execution_count": 6,
   "id": "acc4029c",
   "metadata": {},
   "outputs": [
    {
     "ename": "NameError",
     "evalue": "name 'old_paths' is not defined",
     "output_type": "error",
     "traceback": [
      "\u001b[1;31m---------------------------------------------------------------------------\u001b[0m",
      "\u001b[1;31mNameError\u001b[0m                                 Traceback (most recent call last)",
      "Cell \u001b[1;32mIn[6], line 1\u001b[0m\n\u001b[1;32m----> 1\u001b[0m changeExten(\u001b[43mold_paths\u001b[49m, new_ids, new_path)\n",
      "\u001b[1;31mNameError\u001b[0m: name 'old_paths' is not defined"
     ]
    }
   ],
   "source": [
    "changeExten(old_paths, new_ids, new_path)"
   ]
  },
  {
   "cell_type": "code",
   "execution_count": null,
   "id": "5f7e0394",
   "metadata": {},
   "outputs": [
    {
     "ename": "NameError",
     "evalue": "name 'new_ids' is not defined",
     "output_type": "error",
     "traceback": [
      "\u001b[1;31m---------------------------------------------------------------------------\u001b[0m",
      "\u001b[1;31mNameError\u001b[0m                                 Traceback (most recent call last)",
      "Cell \u001b[1;32mIn[18], line 4\u001b[0m\n\u001b[0;32m      2\u001b[0m val\u001b[38;5;241m=\u001b[39m\u001b[38;5;241m0\u001b[39m\n\u001b[0;32m      3\u001b[0m \u001b[38;5;28;01mfor\u001b[39;00m arquivo \u001b[38;5;129;01min\u001b[39;00m os\u001b[38;5;241m.\u001b[39mlistdir(pasta):\n\u001b[1;32m----> 4\u001b[0m     \u001b[38;5;28;01mif\u001b[39;00m arquivo \u001b[38;5;129;01mnot\u001b[39;00m \u001b[38;5;129;01min\u001b[39;00m \u001b[43mnew_ids\u001b[49m:\n\u001b[0;32m      5\u001b[0m         caminho_arquivo \u001b[38;5;241m=\u001b[39m os\u001b[38;5;241m.\u001b[39mpath\u001b[38;5;241m.\u001b[39mjoin(pasta, arquivo)\n\u001b[0;32m      6\u001b[0m         os\u001b[38;5;241m.\u001b[39mremove(caminho_arquivo)\n",
      "\u001b[1;31mNameError\u001b[0m: name 'new_ids' is not defined"
     ]
    }
   ],
   "source": [
    "pasta = r'C:\\Users\\Erika Magalhães\\Desktop\\face_recognition\\new_images'\n",
    "val=0\n",
    "for arquivo in os.listdir(pasta):\n",
    "    if arquivo not in new_ids:\n",
    "        caminho_arquivo = os.path.join(pasta, arquivo)\n",
    "        os.remove(caminho_arquivo)\n",
    "        val+=1\n",
    "        print(f\"Arquivo '{arquivo}' excluído.\")\n",
    "print(val)"
   ]
  },
  {
   "cell_type": "code",
   "execution_count": null,
   "id": "400e7064",
   "metadata": {},
   "outputs": [],
   "source": [
    "actual_path= ''\n",
    "new_pat=''\n",
    "contad=0\n",
    "for arc in os.listdir(pasta):\n",
    "    \n",
    "    \n",
    "    if contad==8:\n",
    "        contad= 0\n",
    "    contad+=1"
   ]
  },
  {
   "cell_type": "code",
   "execution_count": null,
   "id": "2f1bffde",
   "metadata": {},
   "outputs": [],
   "source": [
    "train_path= os.path.join(pasta, 'train')\n",
    "test_path= os.path.join(pasta, 'test')"
   ]
  },
  {
   "cell_type": "code",
   "execution_count": null,
   "id": "cd331d24",
   "metadata": {},
   "outputs": [
    {
     "data": {
      "text/plain": [
       "(243, 320)"
      ]
     },
     "execution_count": 21,
     "metadata": {},
     "output_type": "execute_result"
    }
   ],
   "source": [
    "img= Image.open(r'C:\\Users\\Erika Magalhães\\Desktop\\face_recognition\\new_images\\train\\subject01.normal.gif')\n",
    "img= np.array(img)\n",
    "img.shape"
   ]
  },
  {
   "cell_type": "code",
   "execution_count": null,
   "id": "aeec4d15",
   "metadata": {},
   "outputs": [],
   "source": [
    "def ImageData():\n",
    "    img_data=[]\n",
    "    ids_num=[]\n",
    "    for i in os.listdir(train_path):\n",
    "        ppp= os.path.join(train_path, i)\n",
    "        temp_img= Image.open(ppp)\n",
    "        temp_img= np.array(temp_img)\n",
    "        img_data.append(temp_img)\n",
    "        id = int(os.path.split(i)[1].split('.')[0].replace('subject', ''))\n",
    "        ids_num.append(id)\n",
    "    return ids_num, img_data \n",
    "        \n",
    "ids_numbers, images= ImageData()"
   ]
  },
  {
   "cell_type": "code",
   "execution_count": null,
   "id": "5b075868",
   "metadata": {},
   "outputs": [
    {
     "data": {
      "text/plain": [
       "(243, 320)"
      ]
     },
     "execution_count": 23,
     "metadata": {},
     "output_type": "execute_result"
    }
   ],
   "source": [
    "np.shape(images[0])"
   ]
  },
  {
   "cell_type": "code",
   "execution_count": null,
   "id": "c7dd687b",
   "metadata": {},
   "outputs": [],
   "source": [
    "#cv2.imwrite('teste.jpg', images[0])\n"
   ]
  },
  {
   "cell_type": "code",
   "execution_count": null,
   "id": "2c06c3b8",
   "metadata": {},
   "outputs": [],
   "source": []
  },
  {
   "cell_type": "code",
   "execution_count": 8,
   "id": "6e7ba5ed",
   "metadata": {},
   "outputs": [
    {
     "name": "stdout",
     "output_type": "stream",
     "text": [
      "C:\\Users\\Erika Magalhães\\Desktop\\face_recognition\\new_images\\train\\subject01.sad.gif\n"
     ]
    }
   ],
   "source": [
    "paths_train= [os.path.join(r'C:\\Users\\Erika Magalhães\\Desktop\\face_recognition\\new_images\\train', n) for n in os.listdir(r'C:\\Users\\Erika Magalhães\\Desktop\\face_recognition\\new_images\\train')]\n",
    "#for i in paths_train:\n",
    "#    print(i)\n",
    "#ar= Image.open(paths_train[0]).convert('L')\n",
    "#ar_np=np.array(ar)\n",
    "#plt.imshow(ar_np)\n",
    "print(paths_train[2])"
   ]
  },
  {
   "cell_type": "code",
   "execution_count": 9,
   "id": "9c53d758",
   "metadata": {},
   "outputs": [
    {
     "name": "stdout",
     "output_type": "stream",
     "text": [
      "1 1.1793188689580751\n"
     ]
    }
   ],
   "source": [
    "imga= Image.open(paths_train[2]).convert('L')\n",
    "Lgray_img= np.array(imga, 'uint8')\n",
    "lbph_classifier= cv2.face.LBPHFaceRecognizer_create()\n",
    "lbph_classifier.read('lbph_algorithm.yml')\n",
    "previsao, _= lbph_classifier.predict(Lgray_img)\n",
    "print(previsao, _)"
   ]
  },
  {
   "cell_type": "code",
   "execution_count": 10,
   "id": "c44b9410",
   "metadata": {},
   "outputs": [
    {
     "name": "stdout",
     "output_type": "stream",
     "text": [
      "[1, 1, 1, 1, 1, 1, 2, 2, 2, 2, 2, 2, 3, 3, 3, 3, 3, 3, 4, 4, 4, 4, 4, 4, 5, 5, 5, 5, 5, 5, 6, 6, 6, 6, 6, 6, 7, 7, 7, 7, 7, 7, 8, 8, 8, 8, 8, 8, 9, 9, 9, 9, 9, 9, 10, 10, 10, 10, 10, 10, 11, 11, 11, 11, 11, 11, 12, 12, 12, 12, 12, 12, 13, 13, 13, 13, 13, 13, 14, 14, 14, 14, 14, 14, 15, 15, 15, 15, 15, 15]\n"
     ]
    }
   ],
   "source": [
    "results= []\n",
    "esperado=[]\n",
    "for path in paths_train:\n",
    "    imga= Image.open(path).convert('L')\n",
    "    Lgray_img= np.array(imga, 'uint8')\n",
    "    lbph_classifier= cv2.face.LBPHFaceRecognizer_create()\n",
    "    lbph_classifier.read('lbph_algorithm.yml')\n",
    "    previsao, _= lbph_classifier.predict(Lgray_img)\n",
    "    results.append(previsao)\n",
    "    esper=int(os.path.split(path)[1].split('.')[0].replace('subject', ''))\n",
    "    esperado.append(esper)\n",
    "print(results)"
   ]
  },
  {
   "cell_type": "code",
   "execution_count": null,
   "id": "c210f159",
   "metadata": {},
   "outputs": [],
   "source": []
  },
  {
   "cell_type": "code",
   "execution_count": null,
   "id": "037e095e",
   "metadata": {},
   "outputs": [
    {
     "data": {
      "text/plain": [
       "1.0"
      ]
     },
     "execution_count": 48,
     "metadata": {},
     "output_type": "execute_result"
    }
   ],
   "source": [
    "from sklearn.metrics import accuracy_score\n",
    "esp= np.array(esperado)\n",
    "re= np.array(results)\n",
    "accuracy_score(esp, re)"
   ]
  },
  {
   "cell_type": "markdown",
   "id": "3d8114ec",
   "metadata": {},
   "source": [
    "## Criando o Arquivo .YML"
   ]
  },
  {
   "cell_type": "code",
   "execution_count": null,
   "metadata": {},
   "outputs": [],
   "source": [
    "import cv2\n",
    "import os \n",
    "from PIL import Image\n",
    "import numpy as np\n",
    "pasta = r'C:\\Users\\Erika Magalhães\\Desktop\\face_recognition\\new_images'\n",
    "train_path= os.path.join(pasta, 'train')\n",
    "test_path= os.path.join(pasta, 'test')\n",
    "def ImageData():\n",
    "    img_data=[]\n",
    "    ids_num=[]\n",
    "    for i in os.listdir(train_path):\n",
    "        ppp= os.path.join(train_path, i)\n",
    "        temp_img= Image.open(ppp)\n",
    "        temp_img= np.array(temp_img)\n",
    "        img_data.append(temp_img)\n",
    "        id = int(os.path.split(i)[1].split('.')[0].replace('subject', ''))\n",
    "        ids_num.append(id)\n",
    "    return ids_num, img_data \n",
    "        \n",
    "ids_numbers, images= ImageData()\n",
    "\n",
    "ids_numpy= np.zeros_like(ids_numbers)\n",
    "cont=0\n",
    "for i in ids_numbers:\n",
    "    ids_numpy[cont]= i\n",
    "    cont+=1\n",
    "\n",
    "\n",
    "ar= cv2.face.LBPHFaceRecognizer_create(radius=2, neighbors=12)\n",
    "ar.train(images, ids_numpy)\n",
    "ar.write('lbph_algorithm.yml')\n",
    "\n",
    "\n"
   ]
  }
 ],
 "metadata": {
  "kernelspec": {
   "display_name": "Python 3",
   "language": "python",
   "name": "python3"
  },
  "language_info": {
   "codemirror_mode": {
    "name": "ipython",
    "version": 3
   },
   "file_extension": ".py",
   "mimetype": "text/x-python",
   "name": "python",
   "nbconvert_exporter": "python",
   "pygments_lexer": "ipython3",
   "version": "3.11.2"
  }
 },
 "nbformat": 4,
 "nbformat_minor": 5
}
